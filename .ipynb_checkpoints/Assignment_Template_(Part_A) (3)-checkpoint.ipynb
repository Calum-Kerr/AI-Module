{
 "cells": [
  {
   "cell_type": "markdown",
   "metadata": {
    "id": "2xA-5ycH2YRg"
   },
   "source": [
    "# Assignment Template Part **A**\n",
    "\n",
    "Please follow the template below to submit part A of your assignment. Make sure all the outputs are provided within the submission file. Make sure to familarise yourself with the assignment brief before."
   ]
  },
  {
   "cell_type": "markdown",
   "metadata": {
    "id": "nUfUHGMO2kY3"
   },
   "source": [
    "# Libraries"
   ]
  },
  {
   "cell_type": "code",
   "execution_count": 10,
   "metadata": {
    "id": "i9UnVYAl3kv2"
   },
   "outputs": [
    {
     "name": "stderr",
     "output_type": "stream",
     "text": [
      "huggingface/tokenizers: The current process just got forked, after parallelism has already been used. Disabling parallelism to avoid deadlocks...\n",
      "To disable this warning, you can either:\n",
      "\t- Avoid using `tokenizers` before the fork if possible\n",
      "\t- Explicitly set the environment variable TOKENIZERS_PARALLELISM=(true | false)\n"
     ]
    },
    {
     "name": "stdout",
     "output_type": "stream",
     "text": [
      "Requirement already satisfied: transformers in /usr/local/python/3.12.1/lib/python3.12/site-packages (4.50.3)\n",
      "Requirement already satisfied: datasets in /usr/local/python/3.12.1/lib/python3.12/site-packages (3.5.0)\n",
      "Requirement already satisfied: evaluate in /usr/local/python/3.12.1/lib/python3.12/site-packages (0.4.3)\n",
      "Requirement already satisfied: huggingface_hub[hf_xet] in /usr/local/python/3.12.1/lib/python3.12/site-packages (0.30.1)\n",
      "Requirement already satisfied: filelock in /home/codespace/.local/lib/python3.12/site-packages (from transformers) (3.13.1)\n",
      "Requirement already satisfied: numpy>=1.17 in /home/codespace/.local/lib/python3.12/site-packages (from transformers) (2.2.4)\n",
      "Requirement already satisfied: packaging>=20.0 in /home/codespace/.local/lib/python3.12/site-packages (from transformers) (24.2)\n",
      "Requirement already satisfied: pyyaml>=5.1 in /home/codespace/.local/lib/python3.12/site-packages (from transformers) (6.0.2)\n",
      "Requirement already satisfied: regex!=2019.12.17 in /usr/local/python/3.12.1/lib/python3.12/site-packages (from transformers) (2024.11.6)\n",
      "Requirement already satisfied: requests in /home/codespace/.local/lib/python3.12/site-packages (from transformers) (2.32.3)\n",
      "Requirement already satisfied: tokenizers<0.22,>=0.21 in /usr/local/python/3.12.1/lib/python3.12/site-packages (from transformers) (0.21.1)\n",
      "Requirement already satisfied: safetensors>=0.4.3 in /usr/local/python/3.12.1/lib/python3.12/site-packages (from transformers) (0.5.3)\n",
      "Requirement already satisfied: tqdm>=4.27 in /usr/local/python/3.12.1/lib/python3.12/site-packages (from transformers) (4.67.1)\n",
      "Requirement already satisfied: pyarrow>=15.0.0 in /usr/local/python/3.12.1/lib/python3.12/site-packages (from datasets) (19.0.1)\n",
      "Requirement already satisfied: dill<0.3.9,>=0.3.0 in /usr/local/python/3.12.1/lib/python3.12/site-packages (from datasets) (0.3.8)\n",
      "Requirement already satisfied: pandas in /home/codespace/.local/lib/python3.12/site-packages (from datasets) (2.2.3)\n",
      "Requirement already satisfied: xxhash in /usr/local/python/3.12.1/lib/python3.12/site-packages (from datasets) (3.5.0)\n",
      "Requirement already satisfied: multiprocess<0.70.17 in /usr/local/python/3.12.1/lib/python3.12/site-packages (from datasets) (0.70.16)\n",
      "Requirement already satisfied: fsspec<=2024.12.0,>=2023.1.0 in /home/codespace/.local/lib/python3.12/site-packages (from fsspec[http]<=2024.12.0,>=2023.1.0->datasets) (2024.6.1)\n",
      "Requirement already satisfied: aiohttp in /usr/local/python/3.12.1/lib/python3.12/site-packages (from datasets) (3.11.16)\n",
      "Requirement already satisfied: typing-extensions>=3.7.4.3 in /home/codespace/.local/lib/python3.12/site-packages (from huggingface_hub[hf_xet]) (4.12.2)\n",
      "Requirement already satisfied: hf-xet>=0.1.4 in /usr/local/python/3.12.1/lib/python3.12/site-packages (from huggingface_hub[hf_xet]) (1.0.0)\n",
      "Requirement already satisfied: aiohappyeyeballs>=2.3.0 in /usr/local/python/3.12.1/lib/python3.12/site-packages (from aiohttp->datasets) (2.6.1)\n",
      "Requirement already satisfied: aiosignal>=1.1.2 in /usr/local/python/3.12.1/lib/python3.12/site-packages (from aiohttp->datasets) (1.3.2)\n",
      "Requirement already satisfied: attrs>=17.3.0 in /home/codespace/.local/lib/python3.12/site-packages (from aiohttp->datasets) (25.3.0)\n",
      "Requirement already satisfied: frozenlist>=1.1.1 in /usr/local/python/3.12.1/lib/python3.12/site-packages (from aiohttp->datasets) (1.5.0)\n",
      "Requirement already satisfied: multidict<7.0,>=4.5 in /usr/local/python/3.12.1/lib/python3.12/site-packages (from aiohttp->datasets) (6.2.0)\n",
      "Requirement already satisfied: propcache>=0.2.0 in /usr/local/python/3.12.1/lib/python3.12/site-packages (from aiohttp->datasets) (0.3.1)\n",
      "Requirement already satisfied: yarl<2.0,>=1.17.0 in /usr/local/python/3.12.1/lib/python3.12/site-packages (from aiohttp->datasets) (1.18.3)\n",
      "Requirement already satisfied: charset-normalizer<4,>=2 in /home/codespace/.local/lib/python3.12/site-packages (from requests->transformers) (3.4.1)\n",
      "Requirement already satisfied: idna<4,>=2.5 in /home/codespace/.local/lib/python3.12/site-packages (from requests->transformers) (3.10)\n",
      "Requirement already satisfied: urllib3<3,>=1.21.1 in /home/codespace/.local/lib/python3.12/site-packages (from requests->transformers) (2.3.0)\n",
      "Requirement already satisfied: certifi>=2017.4.17 in /home/codespace/.local/lib/python3.12/site-packages (from requests->transformers) (2025.1.31)\n",
      "Requirement already satisfied: python-dateutil>=2.8.2 in /home/codespace/.local/lib/python3.12/site-packages (from pandas->datasets) (2.9.0.post0)\n",
      "Requirement already satisfied: pytz>=2020.1 in /home/codespace/.local/lib/python3.12/site-packages (from pandas->datasets) (2025.1)\n",
      "Requirement already satisfied: tzdata>=2022.7 in /home/codespace/.local/lib/python3.12/site-packages (from pandas->datasets) (2025.1)\n",
      "Requirement already satisfied: six>=1.5 in /home/codespace/.local/lib/python3.12/site-packages (from python-dateutil>=2.8.2->pandas->datasets) (1.17.0)\n"
     ]
    }
   ],
   "source": [
    "!pip install transformers datasets evaluate huggingface_hub[hf_xet]\n",
    "import evaluate \n",
    "import numpy as np \n",
    "import pandas as pd"
   ]
  },
  {
   "cell_type": "markdown",
   "metadata": {
    "id": "Pyn6Msi62uuH"
   },
   "source": [
    "# All Pre-requsites (Hugging Face login, data import etc.)\n",
    "\n",
    "Note: If you use a HuggingFace model, please do not share your access key, make sure all the outputs are visible, you will be marked down if outputs are not provided)\n",
    "\n",
    "Provide all functions that you might need for processing the data and using the model (refer to Unit 4 tutorial for some hints)"
   ]
  },
  {
   "cell_type": "code",
   "execution_count": 11,
   "metadata": {},
   "outputs": [
    {
     "name": "stderr",
     "output_type": "stream",
     "text": [
      "Device set to use cpu\n"
     ]
    }
   ],
   "source": [
    "from transformers import pipeline\n",
    "from datasets import load_dataset\n",
    "dataset=load_dataset(\"EdinburghNLP/xsum\")\n",
    "model_name=\"t5-small\"\n",
    "summariser=pipeline(\"summarization\",model=model_name, device=0)"
   ]
  },
  {
   "cell_type": "markdown",
   "metadata": {
    "id": "_0wyJd0a3lou"
   },
   "source": [
    "# Zero-shot Strategy"
   ]
  },
  {
   "cell_type": "code",
   "execution_count": 12,
   "metadata": {
    "id": "6HZSNOOF3zz-"
   },
   "outputs": [
    {
     "data": {
      "text/plain": [
       "'Prison Link Cymru had 1,099 referrals in 2015-16 and said some ex-offenders were living rough for up to a year before finding suitable accommodation.\\nWorkers at the charity claim investment in housing would be cheaper than jailing homeless repeat offenders.\\nThe Welsh Government said more people than ever were getting help to address housing problems.\\nChanges to the Housing Act in Wales, introduced in 2015, removed the right for prison leavers to be given priority for accommodation.\\nPrison Link Cymru, which helps people find accommodation after their release, said things were generally good for women because issues such as children or domestic violence were now considered.\\nHowever, the same could not be said for men, the charity said, because issues which often affect them, such as post traumatic stress disorder or drug dependency, were often viewed as less of a priority.\\nAndrew Stevens, who works in Welsh prisons trying to secure housing for prison leavers, said the need for accommodation was \"chronic\".\\n\"There\\'s a desperate need for it, finding suitable accommodation for those leaving prison there is just a lack of it everywhere,\" he said.\\n\"It could take six months to a year, without a lot of help they could be on the streets for six months.\\n\"When you think of the consequences of either being on the street, especially with the cold weather at the moment or you may have a roof over your head, sometimes there is only one choice.\"\\nMr Stevens believes building more one-bedroom flats could help ease the problem.\\n\"The average price is a hundred pounds a week to keep someone in a rented flat, prison is a lot more than that so I would imagine it would save the public purse quite a few pounds,\" he said.\\nOfficial figures show 830 one-bedroom properties were built in the year to March 2016, of an overall total of 6,900 new properties in Wales.\\nMarc, 50, who has been in and out of prison for the past 20 years for burglary offences, said he struggled to find accommodation each time he was released.\\nHe said he would ask himself: \"Where am I going to stay? Where am I going to live? Have I got somewhere where I can see my daughter.\"\\n\"You\\'re put out among the same sort of people doing the same sort of thing, and it\\'s difficult, it\\'s difficult to get away from it. It\\'s like every man for himself, there\\'s nothing.\"\\nMarc has now found stable accommodation with homeless charity Emmaus and said it had been life changing.\\n\"You feel safe, you got hot food, you\\'ve got company of people in similar situations to yourself but all dealing with different issues. It\\'s a constructive, helpful atmosphere,\" he said.\\nTom Clarke, chief executive of Emmaus South Wales, agreed there was not enough support available.\\n\"We do still see [people] homeless on the streets, so clearly they haven\\'t got accommodation and haven\\'t got provision,\" he said.\\n\"I think the key is connecting people with the services they need. I don\\'t delude myself that Emmaus can offer a one size fits all for everyone, we can\\'t.\\n\"But there must be other opportunities and given suitable encouragement I believe that can and should happen.\"\\nA Welsh Government spokesman said the national pathway for homeless services to children, young people and adults in the secure estate had prevented many people from losing their home whilst serving their prison sentence.\\nIt added there were already significant demands for one-bedroom flats across the public and private sector and it was providing 20,000 new affordable homes in the next five years.'"
      ]
     },
     "execution_count": 12,
     "metadata": {},
     "output_type": "execute_result"
    }
   ],
   "source": [
    "sample=dataset[\"test\"][0]\n",
    "sample[\"document\"]"
   ]
  },
  {
   "cell_type": "code",
   "execution_count": 13,
   "metadata": {
    "id": "okgAuuok3zs-"
   },
   "outputs": [
    {
     "name": "stderr",
     "output_type": "stream",
     "text": [
      "Token indices sequence length is longer than the specified maximum sequence length for this model (777 > 512). Running this sequence through the model will result in indexing errors\n"
     ]
    },
    {
     "data": {
      "text/plain": [
       "[{'summary_text': 'prison link Cymru says some ex-offenders were living rough for up to a year before finding suitable accommodation . change to the Housing Act in Wales introduced in 2015 removed the right for prison leavers to be given priority for housing . the charity says the need for accommodation is \"chronic\"'}]"
      ]
     },
     "execution_count": 13,
     "metadata": {},
     "output_type": "execute_result"
    }
   ],
   "source": [
    "sample=dataset[\"test\"][0]\n",
    "sample[\"document\"]\n",
    "sample[\"summary\"]\n",
    "summariser(sample[\"document\"])"
   ]
  },
  {
   "cell_type": "code",
   "execution_count": 14,
   "metadata": {
    "id": "SqQMmEPZ3zkO"
   },
   "outputs": [
    {
     "name": "stdout",
     "output_type": "stream",
     "text": [
      "Jordan Hill, Brittany Covington and Tesfaye Cooper, all 18, and Tanishia Co Four people accused of kidnapping and torturing a mentally disabled man in a \"racially motivated\" attack streamed on Facebook have been denied bail. the four suspects have been charged with hate crimes and aggravated kidnapping . the victim, 18, suffers from schizophrenia and attention deficit disorder . police allege the van was stolen by the suspects .\n"
     ]
    }
   ],
   "source": [
    "for i in range(3):sample=dataset[\"test\"][i]\n",
    "article=sample[\"document\"][:75]\n",
    "reference=sample[\"summary\"]\n",
    "generated=summariser(sample[\"document\"],max_length=60,truncation=True)[0][\"summary_text\"]\n",
    "print(article,reference, generated)"
   ]
  },
  {
   "cell_type": "code",
   "execution_count": 15,
   "metadata": {},
   "outputs": [],
   "source": [
    "### summary\n",
    "# in this method, i stick to simple and test the t5 small model using summerisation so no training is needed. \n",
    "# i used three articles from the dataset given. \n",
    "# as the t5 small doesnt have a long output range, i kept it small with the max toekn length and with truncation on so nothing breaks. \n",
    "# the model made a close summary for what little i gave it.\n",
    "# more training required."
   ]
  },
  {
   "cell_type": "markdown",
   "metadata": {
    "id": "VrBK3W6736jW"
   },
   "source": [
    "# Few-shot Strategy"
   ]
  },
  {
   "cell_type": "code",
   "execution_count": 16,
   "metadata": {
    "id": "u1OCzwlm4Cgm"
   },
   "outputs": [
    {
     "name": "stderr",
     "output_type": "stream",
     "text": [
      "Device set to use cpu\n"
     ]
    }
   ],
   "source": [
    "from transformers import pipeline\n",
    "generator= pipeline(\"text-generation\",model=\"EleutherAI/gpt-neo-125M\")"
   ]
  },
  {
   "cell_type": "code",
   "execution_count": 17,
   "metadata": {
    "id": "U7d0WBfo4CY2"
   },
   "outputs": [
    {
     "data": {
      "text/plain": [
       "'Prison Link Cymru had 1,099 referrals in 2015-16 and said some ex-offenders were living ro'"
      ]
     },
     "execution_count": 17,
     "metadata": {},
     "output_type": "execute_result"
    }
   ],
   "source": [
    "example1_article=dataset[\"test\"][0][\"document\"][:120]\n",
    "example1_summary=dataset[\"test\"][0][\"summary\"]\n",
    "example2_article=dataset[\"test\"][1][\"document\"][:120]\n",
    "example2_summary=dataset[\"test\"][1][\"summary\"]\n",
    "new_article= dataset[\"test\"][2][\"document\"][:120]\n",
    "example1_article[:90]"
   ]
  },
  {
   "cell_type": "code",
   "execution_count": 18,
   "metadata": {
    "id": "kNuNYyOT4CCu"
   },
   "outputs": [
    {
     "name": "stderr",
     "output_type": "stream",
     "text": [
      "Setting `pad_token_id` to `eos_token_id`:50256 for open-end generation.\n"
     ]
    },
    {
     "name": "stdout",
     "output_type": "stream",
     "text": [
      "Prison Link Cymru had 1,099 referrals in 2015-16 and said some ex-offenders were living rough for up to a year before fisummary is: There is a \"chronic\" need for more housing for prison leavers in Wales, according to a charity.\n",
      "\n",
      "Officers searched properties in the Waterfront Park and Colonsay View areas of the city on Wednesday.\n",
      "Detectives said thsummary is: A man has appeared in court after firearms, ammunition and cash were seized by police in Edinburgh.\n",
      "\n",
      "Jordan Hill, Brittany Covington and Tesfaye Cooper, all 18, and Tanishia Covington, 24, appeared in a Chicago court on Fsummary is:\n",
      "\n",
      "The man has been charged with possession of a firearm and possession of a firearm by a felon by a felon, according to the court papers.\n",
      "\n",
      "One of the officers found a firearm in the man's car and the other in his pocket.\n",
      "\n",
      "The man was identified as 23-\n"
     ]
    }
   ],
   "source": [
    "prompt=(f\"{example1_article}summary is: {example1_summary}\\n\\n\"f\"{example2_article}summary is: {example2_summary}\\n\\n\"f\"{new_article}summary is:\")\n",
    "output=generator(prompt,max_new_tokens=60,do_sample=True,truncation=True,temperature=0.7)[0][\"generated_text\"]\n",
    "print(output)"
   ]
  },
  {
   "cell_type": "code",
   "execution_count": 19,
   "metadata": {},
   "outputs": [],
   "source": [
    "### few shot summary\n",
    "#so i used the same model from the practical 6 task to keep it simple and get results, the propmt was two real articles taken from the dataset, \n",
    "#with a new article where the model was tasked with generating a new summary using their pattern.\n",
    "#there was an issue with generation length at first but i switch max_legnth with max_new_tokens so the model made a clear summary close to the real one."
   ]
  },
  {
   "cell_type": "markdown",
   "metadata": {
    "id": "N489FY7Q4kdt"
   },
   "source": [
    "# Prompt Engineering"
   ]
  },
  {
   "cell_type": "markdown",
   "metadata": {
    "id": "2hDgcRgc5FKF"
   },
   "source": [
    "## Zero-shot"
   ]
  },
  {
   "cell_type": "code",
   "execution_count": 20,
   "metadata": {
    "id": "2CZ2G3t75IOe"
   },
   "outputs": [
    {
     "data": {
      "text/plain": [
       "'the former arsenal goalkeeper played for the Royals for four years . he was appointed youth academy director in 2000 . the 48-year-old has been director of football since 2003 .'"
      ]
     },
     "execution_count": 20,
     "metadata": {},
     "output_type": "execute_result"
    }
   ],
   "source": [
    "prompt_instruction=(\"please summerise the news article in one simple quick sentence and keep to true statements and do not hallucinate:\"+dataset[\"test\"][3][\"document\"])\n",
    "summariser(prompt_instruction ,max_length=60,truncation=True)[0][\"summary_text\"]"
   ]
  },
  {
   "cell_type": "code",
   "execution_count": 21,
   "metadata": {
    "id": "_OGHcWOg5ID1"
   },
   "outputs": [],
   "source": [
    "###prompt engineering summary for zero shot\n",
    "#using the t5 model from earlier, i gave a direct instruction to write a simple summary staying true to real facts/statements.\n",
    "#this is good as the model is more on point and avoided random hallucinations as most ai do, so when i use prompts it helps."
   ]
  },
  {
   "cell_type": "code",
   "execution_count": null,
   "metadata": {
    "id": "e8TwEVHM5IBE"
   },
   "outputs": [],
   "source": []
  },
  {
   "cell_type": "markdown",
   "metadata": {
    "id": "Kx0RFUQW5JHU"
   },
   "source": [
    "## Few-shot"
   ]
  },
  {
   "cell_type": "code",
   "execution_count": 22,
   "metadata": {
    "id": "CNJid6uQ5Ktk"
   },
   "outputs": [
    {
     "name": "stderr",
     "output_type": "stream",
     "text": [
      "Setting `pad_token_id` to `eos_token_id`:50256 for open-end generation.\n"
     ]
    },
    {
     "name": "stdout",
     "output_type": "stream",
     "text": [
      "please summerise the news article in one simple quick sentence and keep to true statements and do not hallucinate\n",
      "article:Prison Link Cymru had 1,099 referrals in 2015-16 and said some ex-offenders were living rough for up to a year before fisummary:There is a \"chronic\" need for more housing for prison leavers in Wales, according to a charity.\n",
      "article:Officers searched properties in the Waterfront Park and Colonsay View areas of the city on Wednesday.\n",
      "Detectives said thsummary:A man has appeared in court after firearms, ammunition and cash were seized by police in Edinburgh.\n",
      "article:Restoring the function of the organ - which helps control blood sugar levels - reversed symptoms of diabetes in animal esummary:The pancreas can be triggered to regenerate itself through a type of fasting diet, say US researchers.\n",
      "article:Dietary supplement pills are not for sale in supermarkets in Scotland.\n",
      "article:A car crash killed one person and three people in Glasgow in August 2015.\n",
      "\n",
      "This is a joint study from the UK and Australia and the Australian Research Council, the organisation that funded the study,\n"
     ]
    }
   ],
   "source": [
    "#i'll keep to the same prompt as zero shot\n",
    "prompt=f\"\"\"please summerise the news article in one simple quick sentence and keep to true statements and do not hallucinate\n",
    "article:{dataset[\"test\"][0][\"document\"][:120]}summary:{dataset[\"test\"][0][\"summary\"]}\n",
    "article:{dataset[\"test\"][1][\"document\"][:120]}summary:{dataset[\"test\"][1][\"summary\"]}\n",
    "article:{dataset[\"test\"][4][\"document\"][:120]}summary:{dataset[\"test\"][4][\"summary\"]}\"\"\"\n",
    "output=generator(prompt,max_new_tokens=60,do_sample=True,truncation=True,temperature=0.7)[0][\"generated_text\"]\n",
    "print(output)"
   ]
  },
  {
   "cell_type": "code",
   "execution_count": null,
   "metadata": {
    "id": "XHsnImD05Q-k"
   },
   "outputs": [],
   "source": [
    "### few shot with prompt engineering\n",
    "#the prompt again used the specific instruction the same as the other method so testing was close.\n",
    "#again it was askked to summarise a third article in the same style as before.\n",
    "#it did give a good structure and was factual.\n",
    "#BUT it did start adding extra stuff to the ends\n",
    "#still better than the few shot without prompting so its clearly better."
   ]
  },
  {
   "cell_type": "code",
   "execution_count": null,
   "metadata": {
    "id": "Ka5W9NX35RD1"
   },
   "outputs": [],
   "source": []
  },
  {
   "cell_type": "markdown",
   "metadata": {
    "id": "7bhkuy1b5VBE"
   },
   "source": [
    "# Evaluation"
   ]
  },
  {
   "cell_type": "code",
   "execution_count": null,
   "metadata": {
    "id": "eRZWwLMq66gT"
   },
   "outputs": [],
   "source": [
    "###evaluation\n",
    "##zero shot\n",
    "#the model was tested without any examples or me giving it instructions and the results were okay but they did sometimes miss the task and add some random nonsense.\n",
    "\n",
    "##few shot\n",
    "#this model was given two examples but no instruction again, and it kind of followed the rule but did ramble on or said too much.\n",
    "\n",
    "##prompt engineering for zero shot\n",
    "#i gave it a clear instruction but without an example and it gave better summaries and more close to true statements in a smaller output and worked better than bog standard zero shot.\n",
    "\n",
    "##propmt engineering for few shot\n",
    "#this used both instructions and examples and gave the best output, it did give a bit too much but for sure the best one."
   ]
  },
  {
   "cell_type": "code",
   "execution_count": null,
   "metadata": {
    "id": "L8tHwk4V5h-U"
   },
   "outputs": [],
   "source": [
    "#not quite sure how to make a table structure so i kept it forward."
   ]
  },
  {
   "cell_type": "code",
   "execution_count": null,
   "metadata": {
    "id": "k7vTnpNY5h5E"
   },
   "outputs": [],
   "source": []
  },
  {
   "cell_type": "markdown",
   "metadata": {
    "id": "rntKNTWK5mU0"
   },
   "source": [
    "# Results Interpretation (max 200 words)\n",
    "\n",
    "Note: If you reference something from the model outputs, make sure it can be traced (e.g., if you noticed a interesting pattern in the results, make sure to provide an example of that in the outputs)."
   ]
  },
  {
   "cell_type": "code",
   "execution_count": null,
   "metadata": {},
   "outputs": [],
   "source": [
    "#so from this part of the coursework i found that the best approach was the few shot with prompt engineering as it was much more accurate than the other methods and the summaries where better, reliable and followed the task a bit better.\n",
    "\n",
    "#the few shot model still kind of copied too much and with the prompt engineering it showed how much this changes the outcome.\n",
    "\n",
    "#i suppose a surprising element was the improvement when adding a simple prompt to keep the model in check, and the t5 model still gave some good summaries with it. "
   ]
  }
 ],
 "metadata": {
  "colab": {
   "provenance": []
  },
  "kernelspec": {
   "display_name": "Python 3 (ipykernel)",
   "language": "python",
   "name": "python3"
  },
  "language_info": {
   "codemirror_mode": {
    "name": "ipython",
    "version": 3
   },
   "file_extension": ".py",
   "mimetype": "text/x-python",
   "name": "python",
   "nbconvert_exporter": "python",
   "pygments_lexer": "ipython3",
   "version": "3.12.1"
  }
 },
 "nbformat": 4,
 "nbformat_minor": 4
}
